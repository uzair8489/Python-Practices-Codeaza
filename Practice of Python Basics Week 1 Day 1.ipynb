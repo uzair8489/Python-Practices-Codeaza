{
 "cells": [
  {
   "cell_type": "markdown",
   "id": "68d4b1d3",
   "metadata": {},
   "source": [
    "###                                              1. Python Syntax, Comments, Variable Names"
   ]
  },
  {
   "cell_type": "markdown",
   "id": "a791e789",
   "metadata": {},
   "source": [
    "This is how we define the syntax in Python which is very much simple and easy to use unlike the other programming languages. The \"#\" is used to comment something in Python. We can directly declare and define variables without specifying the datatypes as python automatically detects datatypes."
   ]
  },
  {
   "cell_type": "code",
   "execution_count": 1,
   "id": "f915274d",
   "metadata": {
    "scrolled": false
   },
   "outputs": [
    {
     "name": "stdout",
     "output_type": "stream",
     "text": [
      "Sum: 15\n"
     ]
    }
   ],
   "source": [
    "# This is a comment\n",
    "x = 5  # Variable assignment\n",
    "y = 10\n",
    "\n",
    "# Example code\n",
    "sum = x + y\n",
    "print(\"Sum:\", sum)"
   ]
  },
  {
   "cell_type": "markdown",
   "id": "064433b9",
   "metadata": {},
   "source": [
    "###                                                                2. Python Data Types"
   ]
  },
  {
   "cell_type": "markdown",
   "id": "1aaedbed",
   "metadata": {},
   "source": [
    "These are the basic datatype which are used commonly in python. \n",
    "                                               \n",
    "1. Integer: Integer is used for the numbers and this number can be limitless."
   ]
  },
  {
   "cell_type": "code",
   "execution_count": 10,
   "id": "aa5ed62c",
   "metadata": {},
   "outputs": [
    {
     "name": "stdout",
     "output_type": "stream",
     "text": [
      "The variable type of value 100  is  <class 'int'>\n",
      "The variable type of value 10.2345  is  <class 'float'>\n",
      "The variable type of value (100+3j)  is  <class 'complex'>\n",
      "string in a double quote\n",
      "string in a single quote\n",
      "<class 'bool'>\n"
     ]
    }
   ],
   "source": [
    "#Integer Variable\n",
    "a=100\n",
    "print(\"The variable type of value\", a, \" is \", type(a))"
   ]
  },
  {
   "cell_type": "markdown",
   "id": "2faecb19",
   "metadata": {},
   "source": [
    "Float data type is for the floating numbers which are precision numbers and it goes upto 15 decimal places"
   ]
  },
  {
   "cell_type": "code",
   "execution_count": 16,
   "id": "af94f09e",
   "metadata": {},
   "outputs": [
    {
     "name": "stdout",
     "output_type": "stream",
     "text": [
      "The variable type of value 10.2345  is  <class 'float'>\n"
     ]
    }
   ],
   "source": [
    "#Float Variable\n",
    "b=10.2345\n",
    "print(\"The variable type of value\", b, \" is \", type(b))"
   ]
  },
  {
   "cell_type": "markdown",
   "id": "f7a27ef6",
   "metadata": {},
   "source": [
    "String : The string is a sequence of characters. Strings can be represented by single or double-quotes. We can use it to        write alphbetic words \n",
    "\n",
    "Another worth mentioning thing is that we can check the data type of any variable in python by using the \"type(variable name)\" as i have shown in the code above.                                          "
   ]
  },
  {
   "cell_type": "code",
   "execution_count": 19,
   "id": "7e5e9936",
   "metadata": {},
   "outputs": [
    {
     "name": "stdout",
     "output_type": "stream",
     "text": [
      "string in a double quote\n",
      "string in a single quote\n"
     ]
    }
   ],
   "source": [
    "#String Variables\n",
    "a = \"string in a double quote\"\n",
    "b= 'string in a single quote'\n",
    "print(a)\n",
    "print(b)"
   ]
  },
  {
   "cell_type": "markdown",
   "id": "7048b305",
   "metadata": {},
   "source": [
    "The complex data type in python consists of two values, the first one is the real part of the complex number, and the second    one is the imaginary part of the complex number."
   ]
  },
  {
   "cell_type": "code",
   "execution_count": 18,
   "id": "26891ce7",
   "metadata": {},
   "outputs": [
    {
     "name": "stdout",
     "output_type": "stream",
     "text": [
      "The variable type of value (100+3j)  is  <class 'complex'>\n"
     ]
    }
   ],
   "source": [
    "#Complex Variable\n",
    "c=100+3j\n",
    "print(\"The variable type of value\", c, \" is \", type(c))"
   ]
  },
  {
   "cell_type": "markdown",
   "id": "ca5c73d9",
   "metadata": {},
   "source": [
    "Boolean type:\n",
    "                                                    \n",
    "Bool: Boolean type is one of Python's built-in data types. It's used to represent the truth value of an expression. We can check the type of True and False with the built-in type(). Boolean type has only two possible values 'True' or 'False'"
   ]
  },
  {
   "cell_type": "code",
   "execution_count": 17,
   "id": "549bd418",
   "metadata": {},
   "outputs": [
    {
     "name": "stdout",
     "output_type": "stream",
     "text": [
      "<class 'bool'>\n"
     ]
    }
   ],
   "source": [
    "#Bool\n",
    "a = False\n",
    "print(type(a))"
   ]
  },
  {
   "cell_type": "markdown",
   "id": "0448c8aa",
   "metadata": {},
   "source": [
    "###                                                         3. Python Lists, Tuples, Sets, Dictionaries"
   ]
  },
  {
   "cell_type": "markdown",
   "id": "8d5ec8fc",
   "metadata": {},
   "source": [
    "These are also the data types of python and these are called Sequence Data Types\n",
    "                                                \n",
    "List: A List can consist of multiple data types at a time. It is declared as square brackets([]) and commas(,)."
   ]
  },
  {
   "cell_type": "code",
   "execution_count": 35,
   "id": "dc80f8da",
   "metadata": {
    "scrolled": true
   },
   "outputs": [
    {
     "name": "stdout",
     "output_type": "stream",
     "text": [
      "List:  ['hey', 'you', 1, 2, 3, 'go']\n",
      "[1, 2, 3, 4, 5, 6]\n",
      "lenght:  3\n",
      "sorted List:  [1, 2, 5, 8, 9]\n"
     ]
    }
   ],
   "source": [
    "#Python list having both integers and strings\n",
    "c= [\"hey\",\"you\",1,2,3,\"go\"]\n",
    "print(\"List: \", c)\n",
    "\n",
    "list1 = [1, 2, 3]\n",
    "list2 = [4, 5, 6]\n",
    "\n",
    "# Concatenation of two lists\n",
    "concatenated_list = list1 + list2\n",
    "print(concatenated_list)\n",
    "\n",
    "# Length of a list\n",
    "length = len(list1)\n",
    "print(\"lenght: \",length)\n",
    "\n",
    "# Sorting a list\n",
    "numbers = [5, 2, 8, 1, 9]\n",
    "numbers.sort()\n",
    "print(\"sorted List: \", numbers)"
   ]
  },
  {
   "cell_type": "markdown",
   "id": "c74e9b35",
   "metadata": {},
   "source": [
    "Tuple: The tuple is a data type which is a sequence of data similar to a list. But in tuples the data is write-protected. And    we Cannot make changes in it. Data in a tuple is written using parenthesis and commas."
   ]
  },
  {
   "cell_type": "code",
   "execution_count": 21,
   "id": "3d5f1086",
   "metadata": {
    "scrolled": true
   },
   "outputs": [
    {
     "name": "stdout",
     "output_type": "stream",
     "text": [
      "Tuple: ('hello', 1, 2, 3, 'go')\n"
     ]
    }
   ],
   "source": [
    "#Tuple having multiple type of data.\n",
    "b=(\"hello\", 1,2,3,\"go\")\n",
    "print(\"Tuple:\", b)"
   ]
  },
  {
   "cell_type": "markdown",
   "id": "0b40703a",
   "metadata": {},
   "source": [
    "Sets: Sets are used to store multiple items in a single variable. It is a collection that is unordered, and these dont have      indexes. We can remove and add items in it but we cannot change its items."
   ]
  },
  {
   "cell_type": "code",
   "execution_count": 33,
   "id": "c472a5b4",
   "metadata": {},
   "outputs": [
    {
     "name": "stdout",
     "output_type": "stream",
     "text": [
      "Set:  {'cherry', 'banana', 'apple'}\n",
      "union:  {1, 2, 3, 4, 5, 6, 7, 8}\n",
      "intersection:  {4, 5}\n"
     ]
    }
   ],
   "source": [
    "#Sets\n",
    "set_var = {\"apple\", \"banana\", \"cherry\"}\n",
    "print(\"Set: \", set_var)\n",
    "\n",
    "set1 = {1, 2, 3, 4, 5}\n",
    "set2 = {4, 5, 6, 7, 8}\n",
    "\n",
    "# Union of two sets\n",
    "union_set = set1.union(set2)\n",
    "print(\"union: \",union_set)\n",
    "\n",
    "# Intersection of two sets\n",
    "intersection_set = set1.intersection(set2)\n",
    "print(\"intersection: \",intersection_set)"
   ]
  },
  {
   "cell_type": "markdown",
   "id": "a300cd53",
   "metadata": {},
   "source": [
    "Dictionaries: A dictionary is a collection which is changeable and do not allow duplicates. Dictionaries are written with curly brackets, and have keys and values. We can also add the lists inside a dictionary."
   ]
  },
  {
   "cell_type": "code",
   "execution_count": 23,
   "id": "6c63b35c",
   "metadata": {},
   "outputs": [
    {
     "name": "stdout",
     "output_type": "stream",
     "text": [
      "Dictionary:  {'brand': 'Ford', 'model': 'Mustang', 'year': 1964}\n",
      "Ford\n"
     ]
    }
   ],
   "source": [
    "#Dictionary\n",
    "dict_var = {\n",
    "  \"brand\": \"Ford\",\n",
    "  \"model\": \"Mustang\",\n",
    "  \"year\": 1964\n",
    "}\n",
    "print(\"Dictionary: \", dict_var)\n",
    "\n",
    "#Dictionary containing of a List\n",
    "dict_var = {\n",
    "  \"brand\": \"Ford\",\n",
    "  \"electric\": False,\n",
    "  \"year\": 1964,\n",
    "  \"colors\": [\"red\", \"white\", \"blue\"]\n",
    "}\n",
    "\n",
    "#Accessing the values in dictionary using keys\n",
    "dict_var = {\n",
    "  \"brand\": \"Ford\",\n",
    "  \"model\": \"Mustang\",\n",
    "  \"year\": 1964\n",
    "}\n",
    "print(dict_var[\"brand\"])"
   ]
  },
  {
   "cell_type": "markdown",
   "id": "3c18dcb4",
   "metadata": {},
   "source": [
    "###                                                   4. Python Conditions and Loops"
   ]
  },
  {
   "cell_type": "markdown",
   "id": "6dc9ab8b",
   "metadata": {},
   "source": [
    "Python conditions allows to perform different actions based on the truth value of a condition. The syntax involves an \"if\" statement followed by a condition, and an \"else\" statement. If the condition is true, the code inside the \"if\" block executes; otherwise, the code inside the \"else\" block (if present) executes."
   ]
  },
  {
   "cell_type": "code",
   "execution_count": 37,
   "id": "bf64e956",
   "metadata": {},
   "outputs": [
    {
     "name": "stdout",
     "output_type": "stream",
     "text": [
      "x is greater than 5\n",
      "Both conditions are true\n",
      "x is not equal to y\n"
     ]
    }
   ],
   "source": [
    "# If statement\n",
    "x = 10\n",
    "if x > 5:\n",
    "    print(\"x is greater than 5\")\n",
    "elif x == 5:\n",
    "    print(\"x is equal to 5\")\n",
    "else:\n",
    "    print(\"x is less than 5\")\n",
    "    \n",
    "\n",
    "#Example 2\n",
    "x = 10\n",
    "y = 5\n",
    "if x > 5 and y < 10:\n",
    "    print(\"Both conditions are true\")\n",
    "\n",
    "if x > 10 or y < 5:\n",
    "    print(\"At least one condition is true\")\n",
    "\n",
    "if not x == y:\n",
    "    print(\"x is not equal to y\")"
   ]
  },
  {
   "cell_type": "markdown",
   "id": "979ea399",
   "metadata": {},
   "source": [
    "Loops in Python allow you to repeatedly execute a block of code until a certain condition is met. \"For\" loop iterates over a sequence and executes the block of code for each item in the sequence. \"While\" loop continues executing the block of code as long as a specified condition remains true. It is suitable when the number of iterations is unknown or based on a specific condition."
   ]
  },
  {
   "cell_type": "code",
   "execution_count": 38,
   "id": "39bb74b1",
   "metadata": {},
   "outputs": [
    {
     "name": "stdout",
     "output_type": "stream",
     "text": [
      "apple\n",
      "banana\n",
      "cherry\n",
      "1\n",
      "2\n",
      "3\n",
      "4\n",
      "5\n"
     ]
    }
   ],
   "source": [
    "# For loop\n",
    "fruits = ['apple', 'banana', 'cherry']\n",
    "for fruit in fruits:\n",
    "    print(fruit)\n",
    "\n",
    "#Example 2\n",
    "for num in range(1, 6):\n",
    "    print(num)"
   ]
  },
  {
   "cell_type": "code",
   "execution_count": 39,
   "id": "f2e7e694",
   "metadata": {},
   "outputs": [
    {
     "name": "stdout",
     "output_type": "stream",
     "text": [
      "0\n",
      "1\n",
      "2\n",
      "3\n",
      "4\n"
     ]
    }
   ],
   "source": [
    "# While loop\n",
    "count = 0\n",
    "while count < 5:\n",
    "    print(count)\n",
    "    count += 1"
   ]
  },
  {
   "cell_type": "markdown",
   "id": "a86abb9c",
   "metadata": {},
   "source": [
    "###                                                         5.Python Functions, Lambda"
   ]
  },
  {
   "cell_type": "markdown",
   "id": "c7b8de41",
   "metadata": {},
   "source": [
    "A function is a block of reusable code that performs a specific task. It allows you to organize your code into logical units and make it more modular and manageable. Functions help promote code reuse, readability, and maintainability."
   ]
  },
  {
   "cell_type": "code",
   "execution_count": 45,
   "id": "5e9075a5",
   "metadata": {},
   "outputs": [
    {
     "name": "stdout",
     "output_type": "stream",
     "text": [
      "Hello Uzair\n",
      "sum:  18\n"
     ]
    }
   ],
   "source": [
    "def greet(name):\n",
    "    print(\"Hello \" + name)\n",
    "\n",
    "greet(\"Uzair\")\n",
    "\n",
    "#function2\n",
    "def add_numbers(a, b):\n",
    "    sum = a + b\n",
    "    return sum\n",
    "\n",
    "result = add_numbers(13, 5)\n",
    "print(\"sum: \",result)"
   ]
  },
  {
   "cell_type": "markdown",
   "id": "edfaac24",
   "metadata": {},
   "source": [
    "Lambda functions, also known as anonymous functions, are compact functions defined in a single line. They are useful for creating small, one-time use functions without a formal function definition."
   ]
  },
  {
   "cell_type": "code",
   "execution_count": 46,
   "id": "046b5a63",
   "metadata": {},
   "outputs": [
    {
     "name": "stdout",
     "output_type": "stream",
     "text": [
      "10\n"
     ]
    }
   ],
   "source": [
    "double = lambda x: x * 2\n",
    "\n",
    "print(double(5))"
   ]
  },
  {
   "cell_type": "markdown",
   "id": "0529c18b",
   "metadata": {},
   "source": [
    "###                                                             6.Python Classes/Objects:"
   ]
  },
  {
   "cell_type": "markdown",
   "id": "90af737f",
   "metadata": {},
   "source": [
    "Classes are blueprints for creating objects. They define attributes (data) and methods (functions) that belong to the objects. Objects are instances of classes and can have unique data and behavior."
   ]
  },
  {
   "cell_type": "code",
   "execution_count": 48,
   "id": "5e09faa2",
   "metadata": {},
   "outputs": [
    {
     "name": "stdout",
     "output_type": "stream",
     "text": [
      "I Drive the Toyota\n"
     ]
    }
   ],
   "source": [
    "class Car:\n",
    "    def __init__(self, brand):\n",
    "        self.brand = brand\n",
    "\n",
    "    def drive(self):\n",
    "        print(\"I Drive the \" + self.brand)\n",
    "\n",
    "my_car = Car(\"Toyota\")\n",
    "my_car.drive()"
   ]
  },
  {
   "cell_type": "code",
   "execution_count": 54,
   "id": "47799fdf",
   "metadata": {},
   "outputs": [
    {
     "name": "stdout",
     "output_type": "stream",
     "text": [
      "Toyota\n",
      "Camry\n",
      "2022\n",
      "The engine is running.\n"
     ]
    }
   ],
   "source": [
    "class Car:\n",
    "    def __init__(self, make, model, year):\n",
    "        self.make = make\n",
    "        self.model = model\n",
    "        self.year = year\n",
    "\n",
    "    def start_engine(self):\n",
    "        print(\"The engine is running.\")\n",
    "\n",
    "my_car = Car(\"Toyota\", \"Camry\", 2022)\n",
    "print(my_car.make)\n",
    "print(my_car.model)\n",
    "print(my_car.year)\n",
    "my_car.start_engine()"
   ]
  },
  {
   "cell_type": "markdown",
   "id": "38b8a30b",
   "metadata": {},
   "source": [
    "###                                                             7.Python Inheritance Python Iterators"
   ]
  },
  {
   "cell_type": "markdown",
   "id": "52aa0361",
   "metadata": {},
   "source": [
    "Inheritance is a fundamental concept in object-oriented programming that allows you to create new classes (derived classes) based on existing classes (base classes). The derived classes inherit attributes and methods from the base classes, enabling code reuse and the creation of class hierarchies. In Python, inheritance is implemented using the syntax class DerivedClass(BaseClass):, where DerivedClass is the new class being created, and BaseClass is the existing class from which it inherits."
   ]
  },
  {
   "cell_type": "code",
   "execution_count": 60,
   "id": "706b2968",
   "metadata": {
    "scrolled": true
   },
   "outputs": [
    {
     "name": "stdout",
     "output_type": "stream",
     "text": [
      "Sandy\n",
      "Woof!\n",
      "Whiskers\n",
      "Meow!\n"
     ]
    }
   ],
   "source": [
    "#Inheritance\n",
    "\n",
    "class Animal:\n",
    "    def __init__(self, name):\n",
    "        self.name = name\n",
    "\n",
    "    def sound(self):\n",
    "        pass\n",
    "\n",
    "class Dog(Animal):\n",
    "    def sound(self):\n",
    "        return \"Woof!\"\n",
    "\n",
    "class Cat(Animal):\n",
    "    def sound(self):\n",
    "        return \"Meow!\"\n",
    "\n",
    "dog = Dog(\"Sandy\")\n",
    "cat = Cat(\"Whiskers\")\n",
    "\n",
    "print(dog.name)\n",
    "print(dog.sound())\n",
    "print(cat.name) \n",
    "print(cat.sound())"
   ]
  },
  {
   "cell_type": "markdown",
   "id": "25768361",
   "metadata": {},
   "source": [
    "In Python, an iterator is an object that implements the iterator protocol, which consists of the __iter__() and __next__() methods. Iterators are used to iterate over a collection of elements or to generate a sequence of values on-the-fly.\n",
    "\n",
    "The __iter__() method returns the iterator object itself. It is called when an iterator is initialized or reset. The __next__() method returns the next element in the sequence. It is called repeatedly until it raises the StopIteration exception, indicating that there are no more elements to be returned"
   ]
  },
  {
   "cell_type": "code",
   "execution_count": 59,
   "id": "46caac35",
   "metadata": {},
   "outputs": [
    {
     "name": "stdout",
     "output_type": "stream",
     "text": [
      "1\n",
      "2\n",
      "3\n",
      "4\n",
      "5\n"
     ]
    }
   ],
   "source": [
    "class MyIterator:\n",
    "    def __init__(self, start, end):\n",
    "        self.current = start\n",
    "        self.end = end\n",
    "\n",
    "    def __iter__(self):\n",
    "        return self\n",
    "\n",
    "    def __next__(self):\n",
    "        if self.current > self.end:\n",
    "            raise StopIteration\n",
    "        else:\n",
    "            self.current += 1\n",
    "            return self.current - 1\n",
    "\n",
    "my_iterator = MyIterator(1, 5)\n",
    "\n",
    "for num in my_iterator:\n",
    "    print(num)"
   ]
  },
  {
   "cell_type": "markdown",
   "id": "48884c5e",
   "metadata": {},
   "source": [
    "###                                                                  8. Python Modules:"
   ]
  },
  {
   "cell_type": "markdown",
   "id": "47dbb41a",
   "metadata": {},
   "source": [
    "Modules are files containing Python code that can be imported and used in other programs. They help organize code, promote reusability, and provide a way to access pre-defined functions, classes, and variables. Modules allow you to break down your code into logical units and make it more modular and manageable. You can import modules into your Python programs and use their defined functions, classes, and variables.\n",
    "\n",
    "There are two types of modules in Python:\n",
    "\n",
    "Built-in Modules: These modules come pre-installed with the Python interpreter and provide a wide range of functionality.\n",
    "\n",
    "User-defined Modules: These modules are created by users to encapsulate their own code or functionality. We can create a module by saving your Python code in a separate file with a .py extension. This file becomes a module that can be imported and used in other Python scripts."
   ]
  },
  {
   "cell_type": "code",
   "execution_count": 61,
   "id": "5a1f927a",
   "metadata": {},
   "outputs": [
    {
     "name": "stdout",
     "output_type": "stream",
     "text": [
      "5.0\n"
     ]
    }
   ],
   "source": [
    "#This is how we import a library/Module in python\n",
    "import math\n",
    "\n",
    "print(math.sqrt(25))"
   ]
  },
  {
   "cell_type": "code",
   "execution_count": 63,
   "id": "c9c3563f",
   "metadata": {},
   "outputs": [
    {
     "name": "stdout",
     "output_type": "stream",
     "text": [
      "3.141592653589793\n"
     ]
    }
   ],
   "source": [
    "from math import sqrt, pi\n",
    "\n",
    "# Using the imported functions directly\n",
    "print(pi)"
   ]
  },
  {
   "cell_type": "markdown",
   "id": "d05620c5",
   "metadata": {},
   "source": [
    "###                                                                 9. Python Try Except:"
   ]
  },
  {
   "cell_type": "markdown",
   "id": "e61d3f89",
   "metadata": {},
   "source": [
    "The try and except statements are used for error handling and exception handling. They allow you to catch and handle specific exceptions that may occur during the execution of your code, preventing your program from crashing or displaying error messages to the user. \n",
    "\n",
    "1. The code within the try block is executed. If an exception occurs within this block, the execution is immediately transferred to the corresponding except block.\n",
    "2. The except block specifies the type of exception it can handle. You can catch specific exceptions (e.g., ValueError, TypeError) or use a more general Exception to catch any exception.\n",
    "3. If an exception occurs that matches the specified type in the except block, the code within that block is executed to handle the exception. You can include error handling logic, display error messages, or perform any necessary actions.\n",
    "4. If no exception occurs within the try block, the except block is skipped, and the program continues with the code following the except block."
   ]
  },
  {
   "cell_type": "code",
   "execution_count": 68,
   "id": "c964987a",
   "metadata": {},
   "outputs": [
    {
     "name": "stdout",
     "output_type": "stream",
     "text": [
      "Enter a number: 6\n",
      "Result: 1.6666666666666667\n"
     ]
    }
   ],
   "source": [
    "try:\n",
    "    # User input\n",
    "    number = int(input(\"Enter a number: \"))\n",
    "\n",
    "    # Divide by zero to cause an exception\n",
    "    result = 10 / number\n",
    "\n",
    "    # Output the result\n",
    "    print(\"Result:\", result)\n",
    "\n",
    "except DivisionError:\n",
    "    print(\"Error: Division by zero is not allowed.\")\n",
    "\n",
    "except ValueError:\n",
    "    print(\"Error: Invalid input. Please enter a valid number.\")\n",
    "\n",
    "except Exception as e:\n",
    "    print(\"An error occurred:\", str(e))\n",
    "\n"
   ]
  },
  {
   "cell_type": "markdown",
   "id": "4a1c37a2",
   "metadata": {},
   "source": [
    "###                                             10. Python User Input and String Formatting:"
   ]
  },
  {
   "cell_type": "markdown",
   "id": "0f03c402",
   "metadata": {},
   "source": [
    "User input can be obtained using the input() function, and string formatting allows us to create formatted strings with dynamic content.\n",
    "\n",
    "User Input:\n",
    "The input() function is used to prompt the user for input. It displays a prompt message to the user, waits for input, and returns the entered value as a string"
   ]
  },
  {
   "cell_type": "code",
   "execution_count": 70,
   "id": "8b75015f",
   "metadata": {},
   "outputs": [
    {
     "name": "stdout",
     "output_type": "stream",
     "text": [
      "Enter your name: Uzair\n",
      "Hello Uzair\n"
     ]
    }
   ],
   "source": [
    "name = input(\"Enter your name: \")\n",
    "print(\"Hello\", name)"
   ]
  },
  {
   "cell_type": "markdown",
   "id": "54de46b8",
   "metadata": {},
   "source": [
    "String formatting allows us to create dynamic strings by inserting values into placeholders within the string. Python provides multiple ways to format strings, including:\n",
    "\n",
    "Using the % operator: This is an older formatting method that uses the % operator as a placeholder for values.\n",
    "Using the str.format() method: This method provides more flexibility.\n",
    "Using f-strings (formatted string literals): This is new and concise way to format strings."
   ]
  },
  {
   "cell_type": "code",
   "execution_count": 74,
   "id": "a219e5dc",
   "metadata": {},
   "outputs": [
    {
     "name": "stdout",
     "output_type": "stream",
     "text": [
      "My name is Uzair and I am 25 years old.\n",
      "My name is Uzair and I am 25 years old.\n",
      "My name is Uzair and I am 25 years old.\n"
     ]
    }
   ],
   "source": [
    "# Using the % operator\n",
    "name = \"Uzair\"\n",
    "age = 25\n",
    "print(\"My name is %s and I am %d years old.\" % (name, age))\n",
    "\n",
    "# Using the str.format() method\n",
    "name = \"Uzair\"\n",
    "age = 25\n",
    "print(\"My name is {} and I am {} years old.\".format(name, age))\n",
    "\n",
    "# Using f-strings\n",
    "name = \"Uzair\"\n",
    "age = 25\n",
    "print(f\"My name is {name} and I am {age} years old.\")\n"
   ]
  }
 ],
 "metadata": {
  "kernelspec": {
   "display_name": "Python 3 (ipykernel)",
   "language": "python",
   "name": "python3"
  },
  "language_info": {
   "codemirror_mode": {
    "name": "ipython",
    "version": 3
   },
   "file_extension": ".py",
   "mimetype": "text/x-python",
   "name": "python",
   "nbconvert_exporter": "python",
   "pygments_lexer": "ipython3",
   "version": "3.11.3"
  }
 },
 "nbformat": 4,
 "nbformat_minor": 5
}
